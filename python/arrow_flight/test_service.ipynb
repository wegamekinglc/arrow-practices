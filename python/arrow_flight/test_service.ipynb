{
 "cells": [
  {
   "cell_type": "code",
   "execution_count": 10,
   "id": "6e393cc5",
   "metadata": {},
   "outputs": [],
   "source": [
    "import pyarrow.flight as flight"
   ]
  },
  {
   "cell_type": "code",
   "execution_count": null,
   "id": "52a4470b",
   "metadata": {},
   "outputs": [],
   "source": [
    "client = flight.connect(\"grpc://0.0.0.0:8816\")"
   ]
  },
  {
   "cell_type": "code",
   "execution_count": 12,
   "id": "2925f97f",
   "metadata": {},
   "outputs": [
    {
     "name": "stdout",
     "output_type": "stream",
     "text": [
      "1.58 s ± 20.9 ms per loop (mean ± std. dev. of 7 runs, 1 loop each)\n"
     ]
    }
   ],
   "source": [
    "%%timeit\n",
    "descriptor = flight.FlightDescriptor.for_path(\"sample.parquet\")\n",
    "flight_info = client.get_flight_info(descriptor)\n",
    "reader = client.do_get(flight_info.endpoints[0].ticket)\n",
    "df = reader.read_all()"
   ]
  },
  {
   "cell_type": "code",
   "execution_count": 7,
   "id": "90624a53",
   "metadata": {},
   "outputs": [],
   "source": [
    "def func(i):\n",
    "    descriptor = flight.FlightDescriptor.for_path(\"sample.parquet\")\n",
    "    flight_info = client.get_flight_info(descriptor)\n",
    "    reader = client.do_get(flight_info.endpoints[0].ticket)\n",
    "    df = reader.read_all()\n",
    "    print(f\"finished {i}th loading\")"
   ]
  },
  {
   "cell_type": "code",
   "execution_count": 8,
   "id": "ba5b545a",
   "metadata": {},
   "outputs": [],
   "source": [
    "import threading"
   ]
  },
  {
   "cell_type": "code",
   "execution_count": null,
   "id": "d12f2037",
   "metadata": {},
   "outputs": [
    {
     "name": "stdout",
     "output_type": "stream",
     "text": [
      "finished 0th loading\n",
      "finished 1th loading\n",
      "finished 2th loading\n",
      "finished 3th loading\n",
      "finished 24th loading\n",
      "finished 15th loading\n",
      "finished 11th loading\n",
      "finished 4th loading\n",
      "finished 9th loading\n",
      "finished 48th loading\n",
      "finished 13th loadingfinished 85th loading\n",
      "finished 63th loading\n",
      "finished 12th loading\n",
      "finished 36th loading\n",
      "finished 16th loading\n",
      "finished 92th loading\n",
      "finished 26th loading\n",
      "finished 34th loading\n",
      "finished 57th loading\n",
      "finished 10th loading\n",
      "finished 54th loading\n",
      "finished 6th loading\n",
      "finished 7th loading\n",
      "finished 18th loading\n",
      "finished 44th loading\n",
      "finished 99th loading\n",
      "finished 46th loading\n",
      "finished 5th loading\n",
      "finished 14th loading\n",
      "finished 37th loading\n",
      "finished 58th loading\n",
      "finished 29th loading\n",
      "finished 84th loading\n",
      "finished 33th loading\n",
      "finished 68th loading\n",
      "finished 40th loading\n",
      "finished 77th loading\n",
      "finished 78th loading\n",
      "finished 71th loading\n",
      "finished 67th loading\n",
      "finished 59th loading\n",
      "finished 22th loading\n",
      "finished 69th loading\n",
      "finished 23th loading\n",
      "finished 28th loading\n",
      "finished 19th loading\n",
      "finished 47th loading\n",
      "finished 86th loading\n",
      "finished 87th loading\n",
      "finished 21th loading\n",
      "finished 88th loading\n",
      "finished 53th loading\n",
      "finished 66th loading\n",
      "finished 39th loading\n",
      "finished 25th loading\n",
      "finished 60th loading\n",
      "finished 82th loading\n",
      "finished 93th loading\n",
      "finished 56th loading\n",
      "finished 83th loading\n",
      "finished 38th loading\n",
      "finished 17th loading\n",
      "finished 31th loading\n",
      "finished 27th loading\n",
      "finished 8th loading\n",
      "finished 94th loading\n",
      "\n",
      "finished 89th loading\n",
      "finished 81th loading\n",
      "finished 35th loading\n",
      "finished 76th loading\n",
      "finished 32th loading\n",
      "finished 70th loading\n",
      "finished 95th loading\n",
      "finished 62th loading\n",
      "finished 45th loading\n",
      "finished 41th loading\n",
      "finished 65th loading\n",
      "finished 91th loading\n",
      "finished 80th loading\n",
      "finished 50th loading\n",
      "finished 79th loading\n",
      "finished 43th loading\n",
      "finished 61th loading\n",
      "finished 64th loading\n",
      "finished 98th loading\n",
      "finished 52th loading\n",
      "finished 74th loading\n",
      "finished 75th loading\n",
      "finished 55th loading\n",
      "finished 90th loading\n",
      "finished 30th loading\n",
      "finished 51th loading\n",
      "finished 42th loading\n",
      "finished 49th loading\n",
      "finished 72th loading\n",
      "finished 97th loading\n",
      "finished 20th loading\n",
      "finished 73th loading\n",
      "finished 96th loading\n"
     ]
    }
   ],
   "source": [
    "%%time\n",
    "\n",
    "ts = []\n",
    "for i in range(100):\n",
    "    t = threading.Thread(target=func, args=(i,))\n",
    "    t.start()\n",
    "    ts.append(t)\n",
    "\n",
    "for t in ts:\n",
    "    t.join()"
   ]
  },
  {
   "cell_type": "code",
   "execution_count": null,
   "id": "ea5911d8",
   "metadata": {},
   "outputs": [],
   "source": []
  }
 ],
 "metadata": {
  "kernelspec": {
   "display_name": "base",
   "language": "python",
   "name": "python3"
  },
  "language_info": {
   "codemirror_mode": {
    "name": "ipython",
    "version": 3
   },
   "file_extension": ".py",
   "mimetype": "text/x-python",
   "name": "python",
   "nbconvert_exporter": "python",
   "pygments_lexer": "ipython3",
   "version": "3.12.7"
  }
 },
 "nbformat": 4,
 "nbformat_minor": 5
}
