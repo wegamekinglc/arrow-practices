{
 "cells": [
  {
   "cell_type": "code",
   "execution_count": 1,
   "id": "fcecb90d-9967-46fb-bff7-29220dea0e2d",
   "metadata": {},
   "outputs": [
    {
     "name": "stdout",
     "output_type": "stream",
     "text": [
      "1.3.1\n",
      "47.0.0\n"
     ]
    }
   ],
   "source": [
    "import numpy as np\n",
    "import pandas as pd\n",
    "import polars as pl\n",
    "import pyarrow as pa\n",
    "import datafusion\n",
    "from datafusion import SessionContext, SessionConfig, col, functions as F\n",
    "import duckdb\n",
    "\n",
    "print(duckdb.__version__)\n",
    "print(datafusion.__version__)"
   ]
  },
  {
   "cell_type": "code",
   "execution_count": 2,
   "id": "84db8f3a-4ddc-4938-b731-04ed932512f0",
   "metadata": {},
   "outputs": [],
   "source": [
    "batches = 100000\n",
    "\n",
    "names = list(\"abcdefghijklmnopqrstuvwxyz\")\n",
    "names = [n + m for n in names for m in names]\n",
    "\n",
    "names_array = pa.concat_arrays([pa.array(names)] * batches)\n",
    "values_array = pa.concat_arrays([pa.array(np.random.randint(1, 100, len(names))) for _ in range(batches)])\n",
    "\n",
    "pa_table = pa.Table.from_arrays([names_array, values_array], names=[\"name\", \"value\"])"
   ]
  },
  {
   "cell_type": "code",
   "execution_count": 3,
   "id": "fc03cb21-a141-4e43-8893-a016caa620c4",
   "metadata": {},
   "outputs": [
    {
     "data": {
      "text/plain": [
       "(67600000, 2)"
      ]
     },
     "execution_count": 3,
     "metadata": {},
     "output_type": "execute_result"
    }
   ],
   "source": [
    "pa_table.shape"
   ]
  },
  {
   "cell_type": "code",
   "execution_count": 4,
   "id": "5f3ac264-c84e-44b0-86b0-926f5b98af23",
   "metadata": {},
   "outputs": [
    {
     "name": "stdout",
     "output_type": "stream",
     "text": [
      "134 ms ± 6.43 ms per loop (mean ± std. dev. of 7 runs, 1 loop each)\n"
     ]
    }
   ],
   "source": [
    "%%timeit \n",
    "res = duckdb.sql(\"select name, sum(value) as value FROM pa_table group by name;\").to_arrow_table()"
   ]
  },
  {
   "cell_type": "code",
   "execution_count": 5,
   "id": "610c5b22-f40d-44a9-84eb-1c7fb90204a0",
   "metadata": {},
   "outputs": [],
   "source": [
    "ctx = SessionContext()\n",
    "_ = ctx.from_arrow(pa_table, \"pa_table\")"
   ]
  },
  {
   "cell_type": "code",
   "execution_count": 6,
   "id": "99897772-05c2-495e-a1fe-8fd4ae244b49",
   "metadata": {},
   "outputs": [
    {
     "name": "stdout",
     "output_type": "stream",
     "text": [
      "988 ms ± 135 ms per loop (mean ± std. dev. of 7 runs, 1 loop each)\n"
     ]
    }
   ],
   "source": [
    "%%timeit\n",
    "res = ctx.sql(\"select name, sum(value) as value FROM pa_table group by name;\").to_arrow_table()"
   ]
  },
  {
   "cell_type": "code",
   "execution_count": null,
   "id": "3a33d239-7760-46a9-a46a-e7bf027bc865",
   "metadata": {},
   "outputs": [],
   "source": []
  }
 ],
 "metadata": {
  "kernelspec": {
   "display_name": "Python 3 (ipykernel)",
   "language": "python",
   "name": "python3"
  },
  "language_info": {
   "codemirror_mode": {
    "name": "ipython",
    "version": 3
   },
   "file_extension": ".py",
   "mimetype": "text/x-python",
   "name": "python",
   "nbconvert_exporter": "python",
   "pygments_lexer": "ipython3",
   "version": "3.12.7"
  }
 },
 "nbformat": 4,
 "nbformat_minor": 5
}
