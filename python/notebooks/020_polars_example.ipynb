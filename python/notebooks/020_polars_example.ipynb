{
 "cells": [
  {
   "cell_type": "code",
   "id": "initial_id",
   "metadata": {
    "collapsed": true,
    "ExecuteTime": {
     "end_time": "2025-10-20T17:43:44.838340Z",
     "start_time": "2025-10-20T17:43:43.768923Z"
    }
   },
   "source": [
    "import numpy as np\n",
    "import functools\n",
    "import sys\n",
    "print(sys.version)\n",
    "from timeit import Timer\n",
    "\n",
    "import pyarrow as pa\n",
    "import pandas as pd\n",
    "import polars as pl\n",
    "import duckdb\n",
    "from datafusion import SessionContext\n",
    "\n",
    "ctx = SessionContext()\n",
    "con = duckdb.connect()\n",
    "\n",
    "\n",
    "def generate_data(number_of_rows):\n",
    "    rng = np.random.default_rng()\n",
    "\n",
    "    return {\n",
    "        \"order_id\": range(1, number_of_rows + 1),\n",
    "        \"region\": rng.choice(\n",
    "            [\"North\", \"South\", \"East\", \"West\"], size=number_of_rows\n",
    "        ),\n",
    "        \"sales_person\": rng.choice(\n",
    "            [\"Armstrong\", \"Aldrin\", \"Collins\"], size=number_of_rows\n",
    "        ),\n",
    "        \"product\": rng.choice(\n",
    "            [\"Helmet\", \"Oxygen\", \"Boots\", \"Gloves\"], size=number_of_rows\n",
    "        ),\n",
    "        \"sales_income\": rng.integers(1, 5001, size=number_of_rows),\n",
    "    }"
   ],
   "outputs": [
    {
     "name": "stdout",
     "output_type": "stream",
     "text": [
      "3.13.5 | packaged by Anaconda, Inc. | (main, Jun 12 2025, 16:37:03) [MSC v.1929 64 bit (AMD64)]\n"
     ]
    }
   ],
   "execution_count": 1
  },
  {
   "metadata": {
    "ExecuteTime": {
     "end_time": "2025-10-20T17:43:44.846672Z",
     "start_time": "2025-10-20T17:43:44.843129Z"
    }
   },
   "cell_type": "code",
   "source": [
    "def create_pandas_dataframe(test_data):\n",
    "    return pd.DataFrame(test_data).convert_dtypes(dtype_backend=\"pyarrow\")\n",
    "\n",
    "def create_pyarrow_dataframe(test_data):\n",
    "    return pa.table(test_data)\n",
    "\n",
    "def create_polars_dataframe(test_data):\n",
    "    return pl.from_arrow(pa.table(test_data))\n",
    "\n",
    "def create_polars_lazyframe(test_data):\n",
    "    return pl.from_arrow(pa.table(test_data)).lazy()"
   ],
   "id": "768ff6d457aefecc",
   "outputs": [],
   "execution_count": 2
  },
  {
   "metadata": {
    "ExecuteTime": {
     "end_time": "2025-10-20T17:43:44.855656Z",
     "start_time": "2025-10-20T17:43:44.851278Z"
    }
   },
   "cell_type": "code",
   "source": [
    "def analyze_pandas_dataframe(pandas_df):\n",
    "    return pandas_df.groupby([\"region\", \"product\", \"sales_person\"])[\n",
    "        \"sales_income\"\n",
    "    ].sum()\n",
    "\n",
    "def analyze_pyarrow_dataframe(pyarrow_df):\n",
    "    return pyarrow_df.group_by([\"region\", \"product\", \"sales_person\"]).aggregate(\n",
    "        [(\"sales_income\", \"sum\")]\n",
    "    )\n",
    "\n",
    "def analyze_datafusion_dataframe():\n",
    "    sql = \"\"\"\n",
    "        SELECT region, product, sales_person, SUM(sales_income) AS total_sales\n",
    "        FROM t\n",
    "        GROUP BY region, product, sales_person\n",
    "        \"\"\"\n",
    "    return ctx.sql(sql).to_arrow_table()\n",
    "\n",
    "def analyze_duckdb_dataframe():\n",
    "    sql = \"\"\"\n",
    "        SELECT region, product, sales_person, SUM(sales_income) AS total_sales\n",
    "        FROM t\n",
    "        GROUP BY region, product, sales_person\n",
    "        \"\"\"\n",
    "    return con.execute(sql).fetch_arrow_table()\n",
    "\n",
    "def analyze_polars_dataframe(polars_df):\n",
    "    return polars_df.group_by([\"region\", \"product\", \"sales_person\"]).agg(\n",
    "        total_sales=pl.col(\"sales_income\").sum()\n",
    "    )\n",
    "\n",
    "def analyze_polars_lazyframe(polars_lf):\n",
    "    return polars_lf.group_by([\"region\", \"product\", \"sales_person\"]).agg(\n",
    "        total_sales=pl.col(\"sales_income\").sum()\n",
    "    ).collect(engine=\"streaming\")"
   ],
   "id": "912db7c25042a0f8",
   "outputs": [],
   "execution_count": 3
  },
  {
   "metadata": {
    "ExecuteTime": {
     "end_time": "2025-10-20T17:43:56.000932Z",
     "start_time": "2025-10-20T17:43:44.861375Z"
    }
   },
   "cell_type": "code",
   "source": [
    "print(\"Creating DataFrames...\")\n",
    "\n",
    "n = 5000000\n",
    "test_data = generate_data(n)\n",
    "\n",
    "print(f\"Pandas dataframe creation time for {n:,} rows:\")\n",
    "print(Timer(functools.partial(create_pandas_dataframe, test_data)).timeit(1))\n",
    "print(f\"\\nPyarrow dataframe creation time for {n:,} rows:\")\n",
    "print(Timer(functools.partial(create_pyarrow_dataframe, test_data)).timeit(1))\n",
    "print(f\"\\nPolars dataframe creation time for {n:,} rows:\")\n",
    "print(Timer(functools.partial(create_polars_dataframe, test_data)).timeit(1))\n",
    "print(f\"\\nPolars lazyframe creation time for {n:,} rows:\")\n",
    "print(Timer(functools.partial(create_polars_lazyframe, test_data)).timeit(1))"
   ],
   "id": "9d4af75ea7fd2f33",
   "outputs": [
    {
     "name": "stdout",
     "output_type": "stream",
     "text": [
      "Creating DataFrames...\n",
      "Pandas dataframe creation time for 5,000,000 rows:\n",
      "2.90731290000258\n",
      "\n",
      "Pyarrow dataframe creation time for 5,000,000 rows:\n",
      "2.6035517000127584\n",
      "\n",
      "Polars dataframe creation time for 5,000,000 rows:\n",
      "2.7015297999896575\n",
      "\n",
      "Polars lazyframe creation time for 5,000,000 rows:\n",
      "2.7471058999944944\n"
     ]
    }
   ],
   "execution_count": 4
  },
  {
   "metadata": {
    "ExecuteTime": {
     "end_time": "2025-10-20T17:44:08.943180Z",
     "start_time": "2025-10-20T17:43:56.974090Z"
    }
   },
   "cell_type": "code",
   "source": [
    "print(\"-\" * 50)\n",
    "\n",
    "pandas_df = create_pandas_dataframe(test_data)\n",
    "pyarrow_df = create_pyarrow_dataframe(test_data)\n",
    "if ctx.table_exist(\"t\"):\n",
    "    ctx.deregister_table(\"t\")\n",
    "ctx.from_arrow(pyarrow_df, \"t\")\n",
    "con.register(\"t\", pyarrow_df)\n",
    "polars_df = create_polars_dataframe(test_data)\n",
    "polars_lf = create_polars_lazyframe(test_data)\n",
    "\n",
    "print(f\"Pandas dataframe analysis time for {n:,} rows:\")\n",
    "print(Timer(functools.partial(analyze_pandas_dataframe, pandas_df)).timeit(1))\n",
    "\n",
    "print(f\"\\nPyarrow dataframe analysis time for {n:,} rows:\")\n",
    "print(Timer(functools.partial(analyze_pyarrow_dataframe, pyarrow_df)).timeit(1))\n",
    "\n",
    "print(f\"\\nDatafusion dataframe analysis time for {n:,} rows:\")\n",
    "print(Timer(functools.partial(analyze_datafusion_dataframe)).timeit(1))\n",
    "\n",
    "print(f\"\\nDuckdb dataframe analysis time for {n:,} rows:\")\n",
    "print(Timer(functools.partial(analyze_duckdb_dataframe)).timeit(1))\n",
    "\n",
    "print(f\"\\nPolars dataframe analysis time for {n:,} rows:\")\n",
    "print(Timer(functools.partial(analyze_polars_dataframe, polars_df)).timeit(1))\n",
    "\n",
    "print(f\"\\nPolars lazyframe analysis time for {n:,} rows:\")\n",
    "print(Timer(functools.partial(analyze_polars_lazyframe, polars_lf)).timeit(1))"
   ],
   "id": "60f3a0cd0a3b03e4",
   "outputs": [
    {
     "name": "stdout",
     "output_type": "stream",
     "text": [
      "--------------------------------------------------\n",
      "Pandas dataframe analysis time for 5,000,000 rows:\n",
      "0.630527000001166\n",
      "\n",
      "Pyarrow dataframe analysis time for 5,000,000 rows:\n",
      "0.09193279998726211\n",
      "\n",
      "Datafusion dataframe analysis time for 5,000,000 rows:\n",
      "0.033187299995915964\n",
      "\n",
      "Duckdb dataframe analysis time for 5,000,000 rows:\n",
      "0.056433400022797287\n",
      "\n",
      "Polars dataframe analysis time for 5,000,000 rows:\n",
      "0.1142857999948319\n",
      "\n",
      "Polars lazyframe analysis time for 5,000,000 rows:\n",
      "0.06341190001694486\n"
     ]
    }
   ],
   "execution_count": 5
  },
  {
   "metadata": {
    "ExecuteTime": {
     "end_time": "2025-10-20T16:32:23.651632Z",
     "start_time": "2025-10-20T16:32:23.649773Z"
    }
   },
   "cell_type": "code",
   "source": "",
   "id": "574d95432b102226",
   "outputs": [],
   "execution_count": null
  },
  {
   "metadata": {},
   "cell_type": "code",
   "outputs": [],
   "execution_count": null,
   "source": "",
   "id": "ac37bc2fb56908f2"
  }
 ],
 "metadata": {
  "kernelspec": {
   "display_name": "Python [conda env:base] *",
   "language": "python",
   "name": "conda-base-py"
  },
  "language_info": {
   "codemirror_mode": {
    "name": "ipython",
    "version": 2
   },
   "file_extension": ".py",
   "mimetype": "text/x-python",
   "name": "python",
   "nbconvert_exporter": "python",
   "pygments_lexer": "ipython2",
   "version": "2.7.6"
  }
 },
 "nbformat": 4,
 "nbformat_minor": 5
}
