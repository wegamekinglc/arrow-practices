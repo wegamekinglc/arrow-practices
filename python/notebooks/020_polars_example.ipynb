{
 "cells": [
  {
   "cell_type": "code",
   "execution_count": 1,
   "id": "initial_id",
   "metadata": {
    "ExecuteTime": {
     "end_time": "2025-10-20T17:43:44.838340Z",
     "start_time": "2025-10-20T17:43:43.768923Z"
    }
   },
   "outputs": [
    {
     "name": "stdout",
     "output_type": "stream",
     "text": [
      "3.13.5 | packaged by Anaconda, Inc. | (main, Jun 12 2025, 16:09:02) [GCC 11.2.0]\n"
     ]
    }
   ],
   "source": [
    "import numpy as np\n",
    "import functools\n",
    "import sys\n",
    "print(sys.version)\n",
    "from timeit import Timer\n",
    "\n",
    "import pyarrow as pa\n",
    "import pandas as pd\n",
    "import polars as pl\n",
    "import duckdb\n",
    "from datafusion import SessionContext\n",
    "\n",
    "ctx = SessionContext()\n",
    "con = duckdb.connect()\n",
    "\n",
    "\n",
    "def generate_data(number_of_rows):\n",
    "    rng = np.random.default_rng()\n",
    "\n",
    "    return {\n",
    "        \"order_id\": range(1, number_of_rows + 1),\n",
    "        \"region\": rng.choice(\n",
    "            [\"North\", \"South\", \"East\", \"West\"], size=number_of_rows\n",
    "        ),\n",
    "        \"sales_person\": rng.choice(\n",
    "            [\"Armstrong\", \"Aldrin\", \"Collins\"], size=number_of_rows\n",
    "        ),\n",
    "        \"product\": rng.choice(\n",
    "            [\"Helmet\", \"Oxygen\", \"Boots\", \"Gloves\"], size=number_of_rows\n",
    "        ),\n",
    "        \"sales_income\": rng.integers(1, 5001, size=number_of_rows),\n",
    "    }"
   ]
  },
  {
   "cell_type": "code",
   "execution_count": 2,
   "id": "768ff6d457aefecc",
   "metadata": {
    "ExecuteTime": {
     "end_time": "2025-10-20T17:43:44.846672Z",
     "start_time": "2025-10-20T17:43:44.843129Z"
    }
   },
   "outputs": [],
   "source": [
    "def create_pandas_dataframe(test_data):\n",
    "    return pd.DataFrame(test_data)\n",
    "\n",
    "def create_pandas_dataframe_with_pyarrow(test_data):\n",
    "    return pd.DataFrame(test_data).convert_dtypes(dtype_backend=\"pyarrow\")\n",
    "\n",
    "def create_pyarrow_dataframe(test_data):\n",
    "    return pa.table(test_data)\n",
    "\n",
    "def create_polars_dataframe(test_data):\n",
    "    return pl.from_arrow(pa.table(test_data))\n",
    "\n",
    "def create_polars_lazyframe(test_data):\n",
    "    return pl.from_arrow(pa.table(test_data)).lazy()"
   ]
  },
  {
   "cell_type": "code",
   "execution_count": 3,
   "id": "912db7c25042a0f8",
   "metadata": {
    "ExecuteTime": {
     "end_time": "2025-10-20T17:43:44.855656Z",
     "start_time": "2025-10-20T17:43:44.851278Z"
    }
   },
   "outputs": [],
   "source": [
    "def analyze_pandas_dataframe(pandas_df):\n",
    "    return pandas_df.groupby([\"region\", \"product\", \"sales_person\"])[\n",
    "        \"sales_income\"\n",
    "    ].sum()\n",
    "\n",
    "def analyze_pyarrow_dataframe(pyarrow_df):\n",
    "    return pyarrow_df.group_by([\"region\", \"product\", \"sales_person\"]).aggregate(\n",
    "        [(\"sales_income\", \"sum\")]\n",
    "    )\n",
    "\n",
    "def analyze_datafusion_dataframe():\n",
    "    sql = \"\"\"\n",
    "        SELECT region, product, sales_person, SUM(sales_income) AS total_sales\n",
    "        FROM t\n",
    "        GROUP BY region, product, sales_person\n",
    "        \"\"\"\n",
    "    return ctx.sql(sql).to_arrow_table()\n",
    "\n",
    "def analyze_duckdb_dataframe():\n",
    "    sql = \"\"\"\n",
    "        SELECT region, product, sales_person, SUM(sales_income) AS total_sales\n",
    "        FROM t\n",
    "        GROUP BY region, product, sales_person\n",
    "        \"\"\"\n",
    "    return con.execute(sql).fetch_arrow_table()\n",
    "\n",
    "def analyze_polars_dataframe(polars_df):\n",
    "    return polars_df.group_by([\"region\", \"product\", \"sales_person\"]).agg(\n",
    "        total_sales=pl.col(\"sales_income\").sum()\n",
    "    )\n",
    "\n",
    "def analyze_polars_lazyframe(polars_lf):\n",
    "    return polars_lf.group_by([\"region\", \"product\", \"sales_person\"]).agg(\n",
    "        total_sales=pl.col(\"sales_income\").sum()\n",
    "    ).collect(engine=\"streaming\")\n",
    "\n",
    "\n",
    "n = 10_000_000\n",
    "\n",
    "test_data = generate_data(n)"
   ]
  },
  {
   "cell_type": "code",
   "execution_count": 4,
   "id": "9d4af75ea7fd2f33",
   "metadata": {
    "ExecuteTime": {
     "end_time": "2025-10-20T17:43:56.000932Z",
     "start_time": "2025-10-20T17:43:44.861375Z"
    }
   },
   "outputs": [
    {
     "name": "stdout",
     "output_type": "stream",
     "text": [
      "Creating DataFrames...\n",
      "Pandas dataframe creation time for 10,000,000 rows:\n",
      "3.134043699999893\n",
      "\n",
      "Pandas dataframe with pyarrow creation time for 10,000,000 rows:\n",
      "5.336611126000207\n",
      "\n",
      "Pyarrow dataframe creation time for 10,000,000 rows:\n",
      "5.04147997400014\n",
      "\n",
      "Polars dataframe creation time for 10,000,000 rows:\n",
      "4.945008783000048\n",
      "\n",
      "Polars lazyframe creation time for 10,000,000 rows:\n",
      "4.76657176900062\n"
     ]
    }
   ],
   "source": [
    "print(\"Creating DataFrames...\")\n",
    "\n",
    "print(f\"Pandas dataframe creation time for {n:,} rows:\")\n",
    "print(Timer(functools.partial(create_pandas_dataframe, test_data)).timeit(1))\n",
    "print(f\"\\nPandas dataframe with pyarrow creation time for {n:,} rows:\")\n",
    "print(Timer(functools.partial(create_pandas_dataframe_with_pyarrow, test_data)).timeit(1))\n",
    "print(f\"\\nPyarrow dataframe creation time for {n:,} rows:\")\n",
    "print(Timer(functools.partial(create_pyarrow_dataframe, test_data)).timeit(1))\n",
    "print(f\"\\nPolars dataframe creation time for {n:,} rows:\")\n",
    "print(Timer(functools.partial(create_polars_dataframe, test_data)).timeit(1))\n",
    "print(f\"\\nPolars lazyframe creation time for {n:,} rows:\")\n",
    "print(Timer(functools.partial(create_polars_lazyframe, test_data)).timeit(1))"
   ]
  },
  {
   "cell_type": "markdown",
   "id": "a1b168bb-45b0-4332-aac5-4a0c662731d1",
   "metadata": {},
   "source": [
    "# 1. Data analysis\n",
    "--------------"
   ]
  },
  {
   "cell_type": "code",
   "execution_count": 5,
   "id": "60f3a0cd0a3b03e4",
   "metadata": {
    "ExecuteTime": {
     "end_time": "2025-10-20T17:44:08.943180Z",
     "start_time": "2025-10-20T17:43:56.974090Z"
    }
   },
   "outputs": [
    {
     "name": "stdout",
     "output_type": "stream",
     "text": [
      "--------------------------------------------------\n",
      "Pandas dataframe analysis time for 10,000,000 rows:\n",
      "2.208175615000073\n",
      "\n",
      "Pandas dataframe with pyarrow analysis time for 10,000,000 rows:\n",
      "1.3885868320003283\n",
      "\n",
      "Pyarrow dataframe analysis time for 10,000,000 rows:\n",
      "0.07580342599976575\n",
      "\n",
      "Datafusion dataframe analysis time for 10,000,000 rows:\n",
      "0.06742536899946572\n",
      "\n",
      "Duckdb dataframe analysis time for 10,000,000 rows:\n",
      "0.09878986600051576\n",
      "\n",
      "Polars dataframe analysis time for 10,000,000 rows:\n",
      "0.2783320210000966\n",
      "\n",
      "Polars lazyframe analysis time for 10,000,000 rows:\n",
      "0.10997739200047363\n"
     ]
    }
   ],
   "source": [
    "print(\"-\" * 50)\n",
    "\n",
    "pandas_df = create_pandas_dataframe(test_data)\n",
    "pandas_df_with_pyarrow = create_pandas_dataframe_with_pyarrow(test_data)\n",
    "pyarrow_df = create_pyarrow_dataframe(test_data)\n",
    "if ctx.table_exist(\"t\"):\n",
    "    ctx.deregister_table(\"t\")\n",
    "ctx.from_arrow(pyarrow_df, \"t\")\n",
    "con.register(\"t\", pyarrow_df)\n",
    "polars_df = create_polars_dataframe(test_data)\n",
    "polars_lf = create_polars_lazyframe(test_data)\n",
    "\n",
    "print(f\"Pandas dataframe analysis time for {n:,} rows:\")\n",
    "print(Timer(functools.partial(analyze_pandas_dataframe, pandas_df)).timeit(1))\n",
    "\n",
    "print(f\"\\nPandas dataframe with pyarrow analysis time for {n:,} rows:\")\n",
    "print(Timer(functools.partial(analyze_pandas_dataframe, pandas_df_with_pyarrow)).timeit(1))\n",
    "\n",
    "print(f\"\\nPyarrow dataframe analysis time for {n:,} rows:\")\n",
    "print(Timer(functools.partial(analyze_pyarrow_dataframe, pyarrow_df)).timeit(1))\n",
    "\n",
    "print(f\"\\nDatafusion dataframe analysis time for {n:,} rows:\")\n",
    "print(Timer(functools.partial(analyze_datafusion_dataframe)).timeit(1))\n",
    "\n",
    "print(f\"\\nDuckdb dataframe analysis time for {n:,} rows:\")\n",
    "print(Timer(functools.partial(analyze_duckdb_dataframe)).timeit(1))\n",
    "\n",
    "print(f\"\\nPolars dataframe analysis time for {n:,} rows:\")\n",
    "print(Timer(functools.partial(analyze_polars_dataframe, polars_df)).timeit(1))\n",
    "\n",
    "print(f\"\\nPolars lazyframe analysis time for {n:,} rows:\")\n",
    "print(Timer(functools.partial(analyze_polars_lazyframe, polars_lf)).timeit(1))"
   ]
  },
  {
   "cell_type": "markdown",
   "id": "01acd671-e142-43cd-862b-43f0321f15b8",
   "metadata": {
    "ExecuteTime": {
     "end_time": "2025-10-20T16:32:23.651632Z",
     "start_time": "2025-10-20T16:32:23.649773Z"
    }
   },
   "source": [
    "# 2. Serialization/Deserialization\n",
    "------------------"
   ]
  },
  {
   "cell_type": "code",
   "execution_count": 6,
   "id": "ac37bc2fb56908f2",
   "metadata": {},
   "outputs": [],
   "source": [
    "import pickle\n",
    "\n",
    "pandas_df = create_pandas_dataframe(test_data)\n",
    "pandas_df_with_pyarrow = create_pandas_dataframe_with_pyarrow(test_data)\n",
    "pyarrow_df = create_pyarrow_dataframe(test_data)"
   ]
  },
  {
   "cell_type": "code",
   "execution_count": 7,
   "id": "77dfe9a9-13c6-4b44-b0e2-5516ceabc573",
   "metadata": {},
   "outputs": [],
   "source": [
    "def serialize_pandas_df(pandas_df):\n",
    "    return pickle.dumps(pandas_df, protocol=pickle.HIGHEST_PROTOCOL)\n",
    "\n",
    "def serialize_pyarrow_df(pyarrow_df):\n",
    "    sink = pa.BufferOutputStream()\n",
    "    with pa.ipc.new_file(sink, pyarrow_df.schema) as writer:\n",
    "        writer.write_table(pyarrow_df)\n",
    "\n",
    "    buf = sink.getvalue()\n",
    "    return buf.to_pybytes()"
   ]
  },
  {
   "cell_type": "code",
   "execution_count": 8,
   "id": "26cbf4c6-a871-41d7-8f83-02f1eace3629",
   "metadata": {},
   "outputs": [
    {
     "name": "stdout",
     "output_type": "stream",
     "text": [
      "Pandas dataframe serialize time for 10,000,000 rows:\n",
      "8.297720185999424\n",
      "\n",
      "Pandas dataframe with pyarrow serialize time for 10,000,000 rows:\n",
      "0.5178799360000994\n",
      "\n",
      "Pyarrow dataframe serialize time for 10,000,000 rows:\n",
      "0.4243422239997017\n"
     ]
    }
   ],
   "source": [
    "print(f\"Pandas dataframe serialize time for {n:,} rows:\")\n",
    "print(Timer(functools.partial(serialize_pandas_df, pandas_df)).timeit(1))\n",
    "\n",
    "print(f\"\\nPandas dataframe with pyarrow serialize time for {n:,} rows:\")\n",
    "print(Timer(functools.partial(serialize_pandas_df, pandas_df_with_pyarrow)).timeit(1))\n",
    "\n",
    "print(f\"\\nPyarrow dataframe serialize time for {n:,} rows:\")\n",
    "print(Timer(functools.partial(serialize_pyarrow_df, pyarrow_df)).timeit(1))"
   ]
  },
  {
   "cell_type": "code",
   "execution_count": 9,
   "id": "85bfc562-14e1-479a-b831-24eb028e5773",
   "metadata": {},
   "outputs": [
    {
     "name": "stdout",
     "output_type": "stream",
     "text": [
      "pandas bytes              : 425929524\n",
      "pandas with pyarrow bytes : 455833770\n",
      "pyarrow_df_bytes bytes    : 455837770\n"
     ]
    }
   ],
   "source": [
    "pandas_df_bytes = serialize_pandas_df(pandas_df)\n",
    "pandas_df_with_pyarrow_bytes = serialize_pandas_df(pandas_df_with_pyarrow)\n",
    "pyarrow_df_bytes = serialize_pyarrow_df(pyarrow_df)\n",
    "\n",
    "print(f\"pandas bytes              : {len(pandas_df_bytes)}\")\n",
    "print(f\"pandas with pyarrow bytes : {len(pandas_df_with_pyarrow_bytes)}\")\n",
    "print(f\"pyarrow_df_bytes bytes    : {len(pyarrow_df_bytes)}\")"
   ]
  },
  {
   "cell_type": "code",
   "execution_count": 10,
   "id": "f782c956-d0cb-4cf0-bdc9-17bdc4d40f3e",
   "metadata": {},
   "outputs": [],
   "source": [
    "def deserialize_pandas_df(pandas_df_bytes):\n",
    "    return pickle.loads(pandas_df_bytes)\n",
    "\n",
    "def deserialize_pyarrow_df(pyarrow_df_bytes):\n",
    "    with pa.ipc.open_file(pyarrow_df_bytes) as reader:\n",
    "        return reader.read_all()"
   ]
  },
  {
   "cell_type": "code",
   "execution_count": 11,
   "id": "7bda8a63-043a-4821-87db-f11169738ff8",
   "metadata": {},
   "outputs": [
    {
     "name": "stdout",
     "output_type": "stream",
     "text": [
      "Pandas dataframe deserialize time for 10,000,000 rows:\n",
      "4.088341994000075\n",
      "\n",
      "Pandas dataframe with pyarrow deserialize time for 10,000,000 rows:\n",
      "0.11177832100020169\n",
      "\n",
      "Pyarrow dataframe deserialize time for 10,000,000 rows:\n",
      "0.00032485600058862474\n"
     ]
    }
   ],
   "source": [
    "print(f\"Pandas dataframe deserialize time for {n:,} rows:\")\n",
    "print(Timer(functools.partial(deserialize_pandas_df, pandas_df_bytes)).timeit(1))\n",
    "print(f\"\\nPandas dataframe with pyarrow deserialize time for {n:,} rows:\")\n",
    "print(Timer(functools.partial(deserialize_pandas_df, pandas_df_with_pyarrow_bytes)).timeit(1))\n",
    "print(f\"\\nPyarrow dataframe deserialize time for {n:,} rows:\")\n",
    "print(Timer(functools.partial(deserialize_pyarrow_df, pyarrow_df_bytes)).timeit(1))"
   ]
  },
  {
   "cell_type": "code",
   "execution_count": null,
   "id": "456d51fb-3746-4fb2-b54e-942447b77102",
   "metadata": {},
   "outputs": [],
   "source": []
  }
 ],
 "metadata": {
  "kernelspec": {
   "display_name": "Python 3 (ipykernel)",
   "language": "python",
   "name": "python3"
  },
  "language_info": {
   "codemirror_mode": {
    "name": "ipython",
    "version": 3
   },
   "file_extension": ".py",
   "mimetype": "text/x-python",
   "name": "python",
   "nbconvert_exporter": "python",
   "pygments_lexer": "ipython3",
   "version": "3.13.5"
  }
 },
 "nbformat": 4,
 "nbformat_minor": 5
}
